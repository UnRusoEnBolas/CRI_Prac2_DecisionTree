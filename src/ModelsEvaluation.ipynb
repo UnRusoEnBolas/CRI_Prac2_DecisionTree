{
 "cells": [
  {
   "cell_type": "code",
   "execution_count": 1,
   "metadata": {},
   "outputs": [],
   "source": [
    "from models.DecisionTree import DecisionTree\n",
    "import pandas as pd\n",
    "import matplotlib.pyplot as plt\n",
    "import numpy as np\n",
    "from sklearn.metrics import classification_report\n",
    "from IPython.display import Image\n",
    "from IPython.core.display import HTML"
   ]
  },
  {
   "cell_type": "markdown",
   "metadata": {},
   "source": [
    "## Introducción"
   ]
  },
  {
   "cell_type": "markdown",
   "metadata": {},
   "source": [
    "Para evaluar nuestros árboles de decisión hemos decidido usar el método de cross-validation kfold. Hay varios puntos importantes que comentar antes de empezar con la evaluación de los modelos:  \n",
    "- Hemos elegido <b>k=5 para kfold</b>, eso es, disponemos de 5 particiones distintas de nuestro dataset. Por lo tanto, hemos entrenado 5 modelos iguales pero usando distintos datos de entrenamiento (todas las particiones menos una) para cada caso. De la misma manera, <b>cada uno de los modelos deberá ser evaluado con la partición del dataset que no fue usada para su entrenamiento</b>.  \n",
    "\n",
    "\n",
    "- Como veremos más adelante, <b>nuestro dataset dispone de pocos registros \"ad\" (con class=1) y muchos registros \"noad\" (con class=0)</b> por lo tanto lo que nos será interesante estudiar serán las métricas de <b>precision y recall (f1-score, que nos combina ambas métricas también)</b> de nuestros modelo a la hora de predecir registros \"ad\". Eso es así porque al haber un desbalanceo de los datos tan notable la métrica de <b>accuracy no no es relevante en este caso</b> (y siempre arroja buenos valores).  \n",
    "\n",
    "\n",
    "- Los modelos deárbol de decisión que hemos generado tienen una <b>profundiadad máxima de 15</b>, es decir, hay un máximo de 15 nodos antes de llegar a una hoja. Eso es así ya que al tener nuetsro dataset un gran número de columnas (atributos) alrededor de las 1050, el timepo de cómputo para generar los árboles es demasiado elevado para nuestros equipos. Por lo tanto hemos decidido establecer un máximo de profundidad de 15, que <b>arroja buenos resultados sin llegar al overfitting y que además nos permite entrenar todos los modelos que presentaremos en un tiempo asumible</b>."
   ]
  },
  {
   "cell_type": "markdown",
   "metadata": {},
   "source": [
    "## Dataset"
   ]
  },
  {
   "cell_type": "code",
   "execution_count": 2,
   "metadata": {
    "scrolled": true
   },
   "outputs": [
    {
     "data": {
      "text/html": [
       "<div>\n",
       "<style scoped>\n",
       "    .dataframe tbody tr th:only-of-type {\n",
       "        vertical-align: middle;\n",
       "    }\n",
       "\n",
       "    .dataframe tbody tr th {\n",
       "        vertical-align: top;\n",
       "    }\n",
       "\n",
       "    .dataframe thead th {\n",
       "        text-align: right;\n",
       "    }\n",
       "</style>\n",
       "<table border=\"1\" class=\"dataframe\">\n",
       "  <thead>\n",
       "    <tr style=\"text-align: right;\">\n",
       "      <th></th>\n",
       "      <th>height</th>\n",
       "      <th>width</th>\n",
       "      <th>aratio</th>\n",
       "      <th>local</th>\n",
       "      <th>url.images.buttons</th>\n",
       "      <th>url.likesbooks.com</th>\n",
       "      <th>url.www.slake.com</th>\n",
       "      <th>url.hydrogeologist</th>\n",
       "      <th>url.oso</th>\n",
       "      <th>url.media</th>\n",
       "      <th>...</th>\n",
       "      <th>caption.home</th>\n",
       "      <th>caption.my</th>\n",
       "      <th>caption.your</th>\n",
       "      <th>caption.in</th>\n",
       "      <th>caption.bytes</th>\n",
       "      <th>caption.here</th>\n",
       "      <th>caption.click</th>\n",
       "      <th>caption.for</th>\n",
       "      <th>caption.you</th>\n",
       "      <th>class</th>\n",
       "    </tr>\n",
       "  </thead>\n",
       "  <tbody>\n",
       "    <tr>\n",
       "      <th>0</th>\n",
       "      <td>125</td>\n",
       "      <td>125</td>\n",
       "      <td>1.0</td>\n",
       "      <td>1</td>\n",
       "      <td>0</td>\n",
       "      <td>0</td>\n",
       "      <td>0</td>\n",
       "      <td>0</td>\n",
       "      <td>0</td>\n",
       "      <td>0</td>\n",
       "      <td>...</td>\n",
       "      <td>0</td>\n",
       "      <td>0</td>\n",
       "      <td>0</td>\n",
       "      <td>0</td>\n",
       "      <td>0</td>\n",
       "      <td>0</td>\n",
       "      <td>0</td>\n",
       "      <td>0</td>\n",
       "      <td>0</td>\n",
       "      <td>1</td>\n",
       "    </tr>\n",
       "    <tr>\n",
       "      <th>1</th>\n",
       "      <td>57</td>\n",
       "      <td>468</td>\n",
       "      <td>8.2105</td>\n",
       "      <td>1</td>\n",
       "      <td>0</td>\n",
       "      <td>0</td>\n",
       "      <td>0</td>\n",
       "      <td>0</td>\n",
       "      <td>0</td>\n",
       "      <td>0</td>\n",
       "      <td>...</td>\n",
       "      <td>0</td>\n",
       "      <td>0</td>\n",
       "      <td>0</td>\n",
       "      <td>0</td>\n",
       "      <td>0</td>\n",
       "      <td>0</td>\n",
       "      <td>0</td>\n",
       "      <td>0</td>\n",
       "      <td>0</td>\n",
       "      <td>1</td>\n",
       "    </tr>\n",
       "    <tr>\n",
       "      <th>2</th>\n",
       "      <td>33</td>\n",
       "      <td>230</td>\n",
       "      <td>6.9696</td>\n",
       "      <td>1</td>\n",
       "      <td>0</td>\n",
       "      <td>0</td>\n",
       "      <td>0</td>\n",
       "      <td>0</td>\n",
       "      <td>0</td>\n",
       "      <td>0</td>\n",
       "      <td>...</td>\n",
       "      <td>0</td>\n",
       "      <td>0</td>\n",
       "      <td>0</td>\n",
       "      <td>0</td>\n",
       "      <td>0</td>\n",
       "      <td>0</td>\n",
       "      <td>0</td>\n",
       "      <td>0</td>\n",
       "      <td>0</td>\n",
       "      <td>1</td>\n",
       "    </tr>\n",
       "    <tr>\n",
       "      <th>3</th>\n",
       "      <td>60</td>\n",
       "      <td>468</td>\n",
       "      <td>7.8</td>\n",
       "      <td>1</td>\n",
       "      <td>0</td>\n",
       "      <td>0</td>\n",
       "      <td>0</td>\n",
       "      <td>0</td>\n",
       "      <td>0</td>\n",
       "      <td>0</td>\n",
       "      <td>...</td>\n",
       "      <td>0</td>\n",
       "      <td>0</td>\n",
       "      <td>0</td>\n",
       "      <td>0</td>\n",
       "      <td>0</td>\n",
       "      <td>0</td>\n",
       "      <td>0</td>\n",
       "      <td>0</td>\n",
       "      <td>0</td>\n",
       "      <td>1</td>\n",
       "    </tr>\n",
       "    <tr>\n",
       "      <th>4</th>\n",
       "      <td>60</td>\n",
       "      <td>468</td>\n",
       "      <td>7.8</td>\n",
       "      <td>1</td>\n",
       "      <td>0</td>\n",
       "      <td>0</td>\n",
       "      <td>0</td>\n",
       "      <td>0</td>\n",
       "      <td>0</td>\n",
       "      <td>0</td>\n",
       "      <td>...</td>\n",
       "      <td>0</td>\n",
       "      <td>0</td>\n",
       "      <td>0</td>\n",
       "      <td>0</td>\n",
       "      <td>0</td>\n",
       "      <td>0</td>\n",
       "      <td>0</td>\n",
       "      <td>0</td>\n",
       "      <td>0</td>\n",
       "      <td>1</td>\n",
       "    </tr>\n",
       "    <tr>\n",
       "      <th>5</th>\n",
       "      <td>60</td>\n",
       "      <td>468</td>\n",
       "      <td>7.8</td>\n",
       "      <td>1</td>\n",
       "      <td>0</td>\n",
       "      <td>0</td>\n",
       "      <td>0</td>\n",
       "      <td>0</td>\n",
       "      <td>0</td>\n",
       "      <td>0</td>\n",
       "      <td>...</td>\n",
       "      <td>0</td>\n",
       "      <td>0</td>\n",
       "      <td>0</td>\n",
       "      <td>0</td>\n",
       "      <td>0</td>\n",
       "      <td>0</td>\n",
       "      <td>0</td>\n",
       "      <td>0</td>\n",
       "      <td>0</td>\n",
       "      <td>1</td>\n",
       "    </tr>\n",
       "    <tr>\n",
       "      <th>6</th>\n",
       "      <td>59</td>\n",
       "      <td>460</td>\n",
       "      <td>7.7966</td>\n",
       "      <td>1</td>\n",
       "      <td>0</td>\n",
       "      <td>0</td>\n",
       "      <td>0</td>\n",
       "      <td>0</td>\n",
       "      <td>0</td>\n",
       "      <td>0</td>\n",
       "      <td>...</td>\n",
       "      <td>0</td>\n",
       "      <td>0</td>\n",
       "      <td>0</td>\n",
       "      <td>0</td>\n",
       "      <td>0</td>\n",
       "      <td>0</td>\n",
       "      <td>0</td>\n",
       "      <td>0</td>\n",
       "      <td>0</td>\n",
       "      <td>1</td>\n",
       "    </tr>\n",
       "    <tr>\n",
       "      <th>7</th>\n",
       "      <td>60</td>\n",
       "      <td>234</td>\n",
       "      <td>3.9</td>\n",
       "      <td>1</td>\n",
       "      <td>0</td>\n",
       "      <td>0</td>\n",
       "      <td>0</td>\n",
       "      <td>0</td>\n",
       "      <td>0</td>\n",
       "      <td>0</td>\n",
       "      <td>...</td>\n",
       "      <td>0</td>\n",
       "      <td>0</td>\n",
       "      <td>0</td>\n",
       "      <td>0</td>\n",
       "      <td>0</td>\n",
       "      <td>0</td>\n",
       "      <td>0</td>\n",
       "      <td>0</td>\n",
       "      <td>0</td>\n",
       "      <td>1</td>\n",
       "    </tr>\n",
       "    <tr>\n",
       "      <th>8</th>\n",
       "      <td>60</td>\n",
       "      <td>468</td>\n",
       "      <td>7.8</td>\n",
       "      <td>1</td>\n",
       "      <td>0</td>\n",
       "      <td>0</td>\n",
       "      <td>0</td>\n",
       "      <td>0</td>\n",
       "      <td>0</td>\n",
       "      <td>0</td>\n",
       "      <td>...</td>\n",
       "      <td>0</td>\n",
       "      <td>0</td>\n",
       "      <td>0</td>\n",
       "      <td>0</td>\n",
       "      <td>0</td>\n",
       "      <td>0</td>\n",
       "      <td>0</td>\n",
       "      <td>0</td>\n",
       "      <td>0</td>\n",
       "      <td>1</td>\n",
       "    </tr>\n",
       "    <tr>\n",
       "      <th>9</th>\n",
       "      <td>60</td>\n",
       "      <td>468</td>\n",
       "      <td>7.8</td>\n",
       "      <td>1</td>\n",
       "      <td>0</td>\n",
       "      <td>0</td>\n",
       "      <td>0</td>\n",
       "      <td>0</td>\n",
       "      <td>0</td>\n",
       "      <td>0</td>\n",
       "      <td>...</td>\n",
       "      <td>0</td>\n",
       "      <td>0</td>\n",
       "      <td>0</td>\n",
       "      <td>0</td>\n",
       "      <td>0</td>\n",
       "      <td>0</td>\n",
       "      <td>0</td>\n",
       "      <td>0</td>\n",
       "      <td>0</td>\n",
       "      <td>1</td>\n",
       "    </tr>\n",
       "    <tr>\n",
       "      <th>10</th>\n",
       "      <td>unknown</td>\n",
       "      <td>unknown</td>\n",
       "      <td>unknown</td>\n",
       "      <td>1</td>\n",
       "      <td>0</td>\n",
       "      <td>0</td>\n",
       "      <td>0</td>\n",
       "      <td>0</td>\n",
       "      <td>0</td>\n",
       "      <td>0</td>\n",
       "      <td>...</td>\n",
       "      <td>0</td>\n",
       "      <td>0</td>\n",
       "      <td>0</td>\n",
       "      <td>0</td>\n",
       "      <td>0</td>\n",
       "      <td>0</td>\n",
       "      <td>0</td>\n",
       "      <td>0</td>\n",
       "      <td>0</td>\n",
       "      <td>1</td>\n",
       "    </tr>\n",
       "    <tr>\n",
       "      <th>11</th>\n",
       "      <td>90</td>\n",
       "      <td>52</td>\n",
       "      <td>0.5777</td>\n",
       "      <td>1</td>\n",
       "      <td>0</td>\n",
       "      <td>0</td>\n",
       "      <td>0</td>\n",
       "      <td>0</td>\n",
       "      <td>0</td>\n",
       "      <td>0</td>\n",
       "      <td>...</td>\n",
       "      <td>0</td>\n",
       "      <td>0</td>\n",
       "      <td>0</td>\n",
       "      <td>0</td>\n",
       "      <td>0</td>\n",
       "      <td>0</td>\n",
       "      <td>0</td>\n",
       "      <td>0</td>\n",
       "      <td>0</td>\n",
       "      <td>1</td>\n",
       "    </tr>\n",
       "    <tr>\n",
       "      <th>12</th>\n",
       "      <td>90</td>\n",
       "      <td>60</td>\n",
       "      <td>0.6666</td>\n",
       "      <td>1</td>\n",
       "      <td>0</td>\n",
       "      <td>0</td>\n",
       "      <td>0</td>\n",
       "      <td>0</td>\n",
       "      <td>0</td>\n",
       "      <td>0</td>\n",
       "      <td>...</td>\n",
       "      <td>0</td>\n",
       "      <td>0</td>\n",
       "      <td>0</td>\n",
       "      <td>0</td>\n",
       "      <td>0</td>\n",
       "      <td>0</td>\n",
       "      <td>0</td>\n",
       "      <td>0</td>\n",
       "      <td>0</td>\n",
       "      <td>1</td>\n",
       "    </tr>\n",
       "    <tr>\n",
       "      <th>13</th>\n",
       "      <td>90</td>\n",
       "      <td>60</td>\n",
       "      <td>0.6666</td>\n",
       "      <td>1</td>\n",
       "      <td>0</td>\n",
       "      <td>0</td>\n",
       "      <td>0</td>\n",
       "      <td>0</td>\n",
       "      <td>0</td>\n",
       "      <td>0</td>\n",
       "      <td>...</td>\n",
       "      <td>0</td>\n",
       "      <td>0</td>\n",
       "      <td>0</td>\n",
       "      <td>0</td>\n",
       "      <td>0</td>\n",
       "      <td>0</td>\n",
       "      <td>0</td>\n",
       "      <td>0</td>\n",
       "      <td>0</td>\n",
       "      <td>1</td>\n",
       "    </tr>\n",
       "    <tr>\n",
       "      <th>14</th>\n",
       "      <td>33</td>\n",
       "      <td>230</td>\n",
       "      <td>6.9696</td>\n",
       "      <td>1</td>\n",
       "      <td>0</td>\n",
       "      <td>0</td>\n",
       "      <td>0</td>\n",
       "      <td>0</td>\n",
       "      <td>0</td>\n",
       "      <td>0</td>\n",
       "      <td>...</td>\n",
       "      <td>0</td>\n",
       "      <td>0</td>\n",
       "      <td>0</td>\n",
       "      <td>0</td>\n",
       "      <td>0</td>\n",
       "      <td>0</td>\n",
       "      <td>0</td>\n",
       "      <td>0</td>\n",
       "      <td>0</td>\n",
       "      <td>1</td>\n",
       "    </tr>\n",
       "  </tbody>\n",
       "</table>\n",
       "<p>15 rows × 1559 columns</p>\n",
       "</div>"
      ],
      "text/plain": [
       "     height    width   aratio  local  url.images.buttons  url.likesbooks.com  \\\n",
       "0       125      125      1.0      1                   0                   0   \n",
       "1        57      468   8.2105      1                   0                   0   \n",
       "2        33      230   6.9696      1                   0                   0   \n",
       "3        60      468      7.8      1                   0                   0   \n",
       "4        60      468      7.8      1                   0                   0   \n",
       "5        60      468      7.8      1                   0                   0   \n",
       "6        59      460   7.7966      1                   0                   0   \n",
       "7        60      234      3.9      1                   0                   0   \n",
       "8        60      468      7.8      1                   0                   0   \n",
       "9        60      468      7.8      1                   0                   0   \n",
       "10  unknown  unknown  unknown      1                   0                   0   \n",
       "11       90       52   0.5777      1                   0                   0   \n",
       "12       90       60   0.6666      1                   0                   0   \n",
       "13       90       60   0.6666      1                   0                   0   \n",
       "14       33      230   6.9696      1                   0                   0   \n",
       "\n",
       "    url.www.slake.com  url.hydrogeologist  url.oso  url.media  ...  \\\n",
       "0                   0                   0        0          0  ...   \n",
       "1                   0                   0        0          0  ...   \n",
       "2                   0                   0        0          0  ...   \n",
       "3                   0                   0        0          0  ...   \n",
       "4                   0                   0        0          0  ...   \n",
       "5                   0                   0        0          0  ...   \n",
       "6                   0                   0        0          0  ...   \n",
       "7                   0                   0        0          0  ...   \n",
       "8                   0                   0        0          0  ...   \n",
       "9                   0                   0        0          0  ...   \n",
       "10                  0                   0        0          0  ...   \n",
       "11                  0                   0        0          0  ...   \n",
       "12                  0                   0        0          0  ...   \n",
       "13                  0                   0        0          0  ...   \n",
       "14                  0                   0        0          0  ...   \n",
       "\n",
       "    caption.home  caption.my  caption.your  caption.in  caption.bytes  \\\n",
       "0              0           0             0           0              0   \n",
       "1              0           0             0           0              0   \n",
       "2              0           0             0           0              0   \n",
       "3              0           0             0           0              0   \n",
       "4              0           0             0           0              0   \n",
       "5              0           0             0           0              0   \n",
       "6              0           0             0           0              0   \n",
       "7              0           0             0           0              0   \n",
       "8              0           0             0           0              0   \n",
       "9              0           0             0           0              0   \n",
       "10             0           0             0           0              0   \n",
       "11             0           0             0           0              0   \n",
       "12             0           0             0           0              0   \n",
       "13             0           0             0           0              0   \n",
       "14             0           0             0           0              0   \n",
       "\n",
       "    caption.here  caption.click  caption.for  caption.you  class  \n",
       "0              0              0            0            0      1  \n",
       "1              0              0            0            0      1  \n",
       "2              0              0            0            0      1  \n",
       "3              0              0            0            0      1  \n",
       "4              0              0            0            0      1  \n",
       "5              0              0            0            0      1  \n",
       "6              0              0            0            0      1  \n",
       "7              0              0            0            0      1  \n",
       "8              0              0            0            0      1  \n",
       "9              0              0            0            0      1  \n",
       "10             0              0            0            0      1  \n",
       "11             0              0            0            0      1  \n",
       "12             0              0            0            0      1  \n",
       "13             0              0            0            0      1  \n",
       "14             0              0            0            0      1  \n",
       "\n",
       "[15 rows x 1559 columns]"
      ]
     },
     "execution_count": 2,
     "metadata": {},
     "output_type": "execute_result"
    }
   ],
   "source": [
    "allData = pd.read_csv('../data/finalAdvertismentsDataset.csv')\n",
    "allData.head(15)"
   ]
  },
  {
   "cell_type": "markdown",
   "metadata": {},
   "source": [
    "Nuestro dataset dispone de 1059 columnas, siendo <b>la última ('class') la columna a predecir</b>. Dispone de algunas filas que contienen valores 'unknown', hemos optado por <b>eliminar esas filas</b>. También cabe destacar que todos los atributos son binearios a excepción de las 3 primeras columnas 'height', 'width' y 'aratio' que hemos optado por <b>dividir en cuartiles</b> para entrenar y evaluar nuestros árboles."
   ]
  },
  {
   "cell_type": "code",
   "execution_count": 3,
   "metadata": {
    "scrolled": true
   },
   "outputs": [
    {
     "data": {
      "image/png": "[encoded data removed]",
      "text/plain": [
       "<Figure size 432x288 with 1 Axes>"
      ]
     },
     "metadata": {
      "needs_background": "light"
     },
     "output_type": "display_data"
    }
   ],
   "source": [
    "allData['class'].hist();\n",
    "plt.title(\"Distribución de los datos para el atributo objetivo\")\n",
    "plt.show();"
   ]
  },
  {
   "cell_type": "markdown",
   "metadata": {},
   "source": [
    "Tal como habíamos indicado antes, se puede observar un gran desbalanceo de los datos en el atributo a predecir."
   ]
  },
  {
   "cell_type": "markdown",
   "metadata": {},
   "source": [
    "## Evaluación de los modelos"
   ]
  },
  {
   "cell_type": "markdown",
   "metadata": {},
   "source": [
    "Preparamos un diccionario para almacenar los resultados:"
   ]
  },
  {
   "cell_type": "code",
   "execution_count": 4,
   "metadata": {},
   "outputs": [],
   "source": [
    "modelsResults = {}\n",
    "for model in ['ID3', 'C4.5', 'Gini']:\n",
    "    modelsResults[model] = {}\n",
    "    for label in ['0.0','1.0']:\n",
    "        modelsResults[model][label] = {}\n",
    "        for metric in ['precision', 'recall', 'f1-score']:\n",
    "            modelsResults[model][label][metric] = []"
   ]
  },
  {
   "cell_type": "markdown",
   "metadata": {},
   "source": [
    "Cargamos las particiones de k-fold:"
   ]
  },
  {
   "cell_type": "code",
   "execution_count": 5,
   "metadata": {},
   "outputs": [],
   "source": [
    "kFoldPartitions = []\n",
    "for i in range(1,6):\n",
    "    kFoldPartitions.append(pd.read_csv(f'../data/kfold/partition{i}of5.csv'))"
   ]
  },
  {
   "cell_type": "markdown",
   "metadata": {},
   "source": [
    "### 1.- ID3"
   ]
  },
  {
   "cell_type": "markdown",
   "metadata": {},
   "source": [
    "Cargamos los modelos entreados de ID3:"
   ]
  },
  {
   "cell_type": "code",
   "execution_count": 6,
   "metadata": {},
   "outputs": [],
   "source": [
    "decisionTrees = []\n",
    "for i in range(1,6):\n",
    "    decisionTrees.append(DecisionTree().fromJSON(f'../outputs/modelsOutputs/ID3_maxDepth15__Partition{i}of5_isOutOfTraining.json'))"
   ]
  },
  {
   "cell_type": "markdown",
   "metadata": {},
   "source": [
    "Con los modelos cargados, enseñamos la visualización de uno de ellos para hacernos una idea de como son:"
   ]
  },
  {
   "cell_type": "code",
   "execution_count": 7,
   "metadata": {},
   "outputs": [],
   "source": [
    "decisionTrees[0].visualize('../outputs/graphOutputs/EjemploArbolID3')"
   ]
  },
  {
   "cell_type": "code",
   "execution_count": 8,
   "metadata": {
    "scrolled": false
   },
   "outputs": [
    {
     "data": {
      "text/html": [
       "<img src=\"../outputs/graphOutputs/EjemploArbolID3.gv.png\"/>"
      ],
      "text/plain": [
       "<IPython.core.display.Image object>"
      ]
     },
     "execution_count": 8,
     "metadata": {},
     "output_type": "execute_result"
    }
   ],
   "source": [
    "Image(url=\"../outputs/graphOutputs/EjemploArbolID3.gv.png\")"
   ]
  },
  {
   "cell_type": "markdown",
   "metadata": {},
   "source": [
    "Evaluemos el modelo, para ello, como hemos explicado haremos que cada uno de los árboles entrenados haga predicciones sobre la partición del k-fold que no se usó para su entrenamiento. Seguidamente usaremos la media de las métricas obtenidas por los 5 modelos para determinar el rendimiento final."
   ]
  },
  {
   "cell_type": "code",
   "execution_count": 9,
   "metadata": {},
   "outputs": [],
   "source": [
    "for i in range(5):\n",
    "    datasetToPredict = kFoldPartitions[i]\n",
    "    model = decisionTrees[i]\n",
    "    x = datasetToPredict.iloc[:,:-1]\n",
    "    y = datasetToPredict.iloc[:,-1]\n",
    "    prediction = model.predict(x)\n",
    "    clasifReport = classification_report(y, prediction, output_dict=True)\n",
    "    for metric in ['precision', 'recall', 'f1-score']:\n",
    "        for label in ['0.0', '1.0']:\n",
    "            modelsResults['ID3'][label][metric].append(clasifReport[label][metric])\n",
    "for metric in ['precision', 'recall', 'f1-score']:\n",
    "        for label in ['0.0', '1.0']:\n",
    "            modelsResults['ID3'][label][metric] = np.mean(modelsResults['ID3'][label][metric])"
   ]
  },
  {
   "cell_type": "code",
   "execution_count": 10,
   "metadata": {},
   "outputs": [
    {
     "name": "stdout",
     "output_type": "stream",
     "text": [
      "precision para clase 0.0 usando ID3: 0.9741034684615869\n",
      "precision para clase 1.0 usando ID3: 0.9172433797433797\n",
      "recall para clase 0.0 usando ID3: 0.9848619472254787\n",
      "recall para clase 1.0 usando ID3: 0.8665379403794038\n",
      "f1-score para clase 0.0 usando ID3: 0.9794107773238518\n",
      "f1-score para clase 1.0 usando ID3: 0.8900429605909059\n"
     ]
    }
   ],
   "source": [
    "for metric in ['precision', 'recall', 'f1-score']:\n",
    "        for label in ['0.0', '1.0']:\n",
    "            print(f\"{metric} para clase {label} usando ID3: {modelsResults['ID3'][label][metric]}\")"
   ]
  },
  {
   "cell_type": "markdown",
   "metadata": {},
   "source": [
    "### 2.- C4.5"
   ]
  },
  {
   "cell_type": "markdown",
   "metadata": {},
   "source": [
    "Procedemos de la misma manera para C4.5:"
   ]
  },
  {
   "cell_type": "code",
   "execution_count": 11,
   "metadata": {},
   "outputs": [],
   "source": [
    "decisionTrees = []\n",
    "for i in range(1,6):\n",
    "    decisionTrees.append(DecisionTree().fromJSON(f'../outputs/modelsOutputs/C4.5_maxDepth15__Partition{i}of5_isOutOfTraining.json'))"
   ]
  },
  {
   "cell_type": "code",
   "execution_count": 12,
   "metadata": {},
   "outputs": [],
   "source": [
    "decisionTrees[0].visualize('../outputs/graphOutputs/EjemploArbolC4.5')"
   ]
  },
  {
   "cell_type": "code",
   "execution_count": 13,
   "metadata": {},
   "outputs": [
    {
     "data": {
      "text/html": [
       "<img src=\"../outputs/graphOutputs/EjemploArbolc4.5.gv.png\"/>"
      ],
      "text/plain": [
       "<IPython.core.display.Image object>"
      ]
     },
     "execution_count": 13,
     "metadata": {},
     "output_type": "execute_result"
    }
   ],
   "source": [
    "Image(url=\"../outputs/graphOutputs/EjemploArbolc4.5.gv.png\")"
   ]
  },
  {
   "cell_type": "code",
   "execution_count": 14,
   "metadata": {},
   "outputs": [],
   "source": [
    "for i in range(5):\n",
    "    datasetToPredict = kFoldPartitions[i]\n",
    "    model = decisionTrees[i]\n",
    "    x = datasetToPredict.iloc[:,:-1]\n",
    "    y = datasetToPredict.iloc[:,-1]\n",
    "    prediction = model.predict(x)\n",
    "    clasifReport = classification_report(y, prediction, output_dict=True)\n",
    "    for metric in ['precision', 'recall', 'f1-score']:\n",
    "        for label in ['0.0', '1.0']:\n",
    "            modelsResults['C4.5'][label][metric].append(clasifReport[label][metric])\n",
    "for metric in ['precision', 'recall', 'f1-score']:\n",
    "        for label in ['0.0', '1.0']:\n",
    "            modelsResults['C4.5'][label][metric] = np.mean(modelsResults['C4.5'][label][metric])"
   ]
  },
  {
   "cell_type": "code",
   "execution_count": 15,
   "metadata": {},
   "outputs": [
    {
     "name": "stdout",
     "output_type": "stream",
     "text": [
      "precision para clase 0.0 usando C4.5: 0.9600362283020616\n",
      "precision para clase 1.0 usando C4.5: 0.9411621545949904\n",
      "recall para clase 0.0 usando C4.5: 0.9904117510250068\n",
      "recall para clase 1.0 usando C4.5: 0.7872154471544716\n",
      "f1-score para clase 0.0 usando C4.5: 0.9749284036378615\n",
      "f1-score para clase 1.0 usando C4.5: 0.8553813810639559\n"
     ]
    }
   ],
   "source": [
    "for metric in ['precision', 'recall', 'f1-score']:\n",
    "        for label in ['0.0', '1.0']:\n",
    "            print(f\"{metric} para clase {label} usando C4.5: {modelsResults['C4.5'][label][metric]}\")"
   ]
  },
  {
   "cell_type": "markdown",
   "metadata": {},
   "source": [
    "### 3.- Gini"
   ]
  },
  {
   "cell_type": "markdown",
   "metadata": {},
   "source": [
    "Procedemos de la misma manera para Gini:"
   ]
  },
  {
   "cell_type": "code",
   "execution_count": 16,
   "metadata": {},
   "outputs": [],
   "source": [
    "decisionTrees = []\n",
    "for i in range(1,6):\n",
    "    decisionTrees.append(DecisionTree().fromJSON(f'../outputs/modelsOutputs/Gini_maxDepth15__Partition{i}of5_isOutOfTraining.json'))"
   ]
  },
  {
   "cell_type": "code",
   "execution_count": 17,
   "metadata": {},
   "outputs": [],
   "source": [
    "decisionTrees[0].visualize('../outputs/graphOutputs/EjemploArbolGini')"
   ]
  },
  {
   "cell_type": "code",
   "execution_count": 18,
   "metadata": {},
   "outputs": [
    {
     "data": {
      "text/html": [
       "<img src=\"../outputs/graphOutputs/EjemploArbolGini.gv.png\"/>"
      ],
      "text/plain": [
       "<IPython.core.display.Image object>"
      ]
     },
     "execution_count": 18,
     "metadata": {},
     "output_type": "execute_result"
    }
   ],
   "source": [
    "Image(url=\"../outputs/graphOutputs/EjemploArbolGini.gv.png\")"
   ]
  },
  {
   "cell_type": "code",
   "execution_count": 19,
   "metadata": {},
   "outputs": [],
   "source": [
    "for i in range(5):\n",
    "    datasetToPredict = kFoldPartitions[i]\n",
    "    model = decisionTrees[i]\n",
    "    x = datasetToPredict.iloc[:,:-1]\n",
    "    y = datasetToPredict.iloc[:,-1]\n",
    "    prediction = model.predict(x)\n",
    "    clasifReport = classification_report(y, prediction, output_dict=True)\n",
    "    for metric in ['precision', 'recall', 'f1-score']:\n",
    "        for label in ['0.0', '1.0']:\n",
    "            modelsResults['Gini'][label][metric].append(clasifReport[label][metric])\n",
    "for metric in ['precision', 'recall', 'f1-score']:\n",
    "        for label in ['0.0', '1.0']:\n",
    "            modelsResults['Gini'][label][metric] = np.mean(modelsResults['Gini'][label][metric])"
   ]
  },
  {
   "cell_type": "code",
   "execution_count": 20,
   "metadata": {},
   "outputs": [
    {
     "name": "stdout",
     "output_type": "stream",
     "text": [
      "precision para clase 0.0 usando Gini: 0.9707616774763371\n",
      "precision para clase 1.0 usando Gini: 0.9235547047992526\n",
      "recall para clase 0.0 usando Gini: 0.9864063671541619\n",
      "recall para clase 1.0 usando Gini: 0.84619918699187\n",
      "f1-score para clase 0.0 usando Gini: 0.978485327614868\n",
      "f1-score para clase 1.0 usando Gini: 0.8822384281917055\n"
     ]
    }
   ],
   "source": [
    "for metric in ['precision', 'recall', 'f1-score']:\n",
    "        for label in ['0.0', '1.0']:\n",
    "            print(f\"{metric} para clase {label} usando Gini: {modelsResults['Gini'][label][metric]}\")"
   ]
  },
  {
   "cell_type": "markdown",
   "metadata": {},
   "source": [
    "## Comparación de modelos"
   ]
  },
  {
   "cell_type": "markdown",
   "metadata": {},
   "source": [
    "- Comparación general:"
   ]
  },
  {
   "cell_type": "code",
   "execution_count": 21,
   "metadata": {},
   "outputs": [],
   "source": [
    "models = ['ID3', 'C4.5', 'Gini']\n",
    "classes = ['0.0', '1.0']\n",
    "metrics = ['precision', 'recall', 'f1-score']\n",
    "data = []\n",
    "for model in models:\n",
    "    for metric in metrics:\n",
    "        for label in classes:\n",
    "            data.append(modelsResults[model][label][metric])\n",
    "data = np.array(data)\n",
    "data = np.around(data, 3)\n",
    "comparisonDataframe = pd.DataFrame(data.reshape(3,6),\n",
    "            index=models,\n",
    "            columns=['precisionClass0', 'precisionClass1', 'recallClass0', 'recallClass1', 'f1-scoreClass0', 'f1-scoreClass1'])"
   ]
  },
  {
   "cell_type": "code",
   "execution_count": 22,
   "metadata": {},
   "outputs": [
    {
     "data": {
      "text/html": [
       "<div>\n",
       "<style scoped>\n",
       "    .dataframe tbody tr th:only-of-type {\n",
       "        vertical-align: middle;\n",
       "    }\n",
       "\n",
       "    .dataframe tbody tr th {\n",
       "        vertical-align: top;\n",
       "    }\n",
       "\n",
       "    .dataframe thead th {\n",
       "        text-align: right;\n",
       "    }\n",
       "</style>\n",
       "<table border=\"1\" class=\"dataframe\">\n",
       "  <thead>\n",
       "    <tr style=\"text-align: right;\">\n",
       "      <th></th>\n",
       "      <th>precisionClass0</th>\n",
       "      <th>precisionClass1</th>\n",
       "      <th>recallClass0</th>\n",
       "      <th>recallClass1</th>\n",
       "      <th>f1-scoreClass0</th>\n",
       "      <th>f1-scoreClass1</th>\n",
       "    </tr>\n",
       "  </thead>\n",
       "  <tbody>\n",
       "    <tr>\n",
       "      <th>ID3</th>\n",
       "      <td>0.974</td>\n",
       "      <td>0.917</td>\n",
       "      <td>0.985</td>\n",
       "      <td>0.867</td>\n",
       "      <td>0.979</td>\n",
       "      <td>0.890</td>\n",
       "    </tr>\n",
       "    <tr>\n",
       "      <th>C4.5</th>\n",
       "      <td>0.960</td>\n",
       "      <td>0.941</td>\n",
       "      <td>0.990</td>\n",
       "      <td>0.787</td>\n",
       "      <td>0.975</td>\n",
       "      <td>0.855</td>\n",
       "    </tr>\n",
       "    <tr>\n",
       "      <th>Gini</th>\n",
       "      <td>0.971</td>\n",
       "      <td>0.924</td>\n",
       "      <td>0.986</td>\n",
       "      <td>0.846</td>\n",
       "      <td>0.978</td>\n",
       "      <td>0.882</td>\n",
       "    </tr>\n",
       "  </tbody>\n",
       "</table>\n",
       "</div>"
      ],
      "text/plain": [
       "      precisionClass0  precisionClass1  recallClass0  recallClass1  \\\n",
       "ID3             0.974            0.917         0.985         0.867   \n",
       "C4.5            0.960            0.941         0.990         0.787   \n",
       "Gini            0.971            0.924         0.986         0.846   \n",
       "\n",
       "      f1-scoreClass0  f1-scoreClass1  \n",
       "ID3            0.979           0.890  \n",
       "C4.5           0.975           0.855  \n",
       "Gini           0.978           0.882  "
      ]
     },
     "execution_count": 22,
     "metadata": {},
     "output_type": "execute_result"
    }
   ],
   "source": [
    "comparisonDataframe"
   ]
  },
  {
   "cell_type": "code",
   "execution_count": 23,
   "metadata": {
    "scrolled": false
   },
   "outputs": [
    {
     "data": {
      "image/png": "[encoded data removed]",
      "text/plain": [
       "<Figure size 1080x576 with 1 Axes>"
      ]
     },
     "metadata": {
      "needs_background": "light"
     },
     "output_type": "display_data"
    }
   ],
   "source": [
    "ax = comparisonDataframe.plot(kind='bar', figsize=(15,8));\n",
    "for p in ax.patches:\n",
    "    ax.annotate(str(p.get_height()), (p.get_x() * 1.005, p.get_height() * 1.005))"
   ]
  },
  {
   "cell_type": "markdown",
   "metadata": {},
   "source": [
    "- Compraración para la clase 'ad':"
   ]
  },
  {
   "cell_type": "code",
   "execution_count": 24,
   "metadata": {},
   "outputs": [],
   "source": [
    "models = ['ID3', 'C4.5', 'Gini']\n",
    "classes = ['1.0']\n",
    "metrics = ['precision', 'recall', 'f1-score']\n",
    "data = []\n",
    "for model in models:\n",
    "    for metric in metrics:\n",
    "        for label in classes:\n",
    "            data.append(modelsResults[model][label][metric])\n",
    "data = np.array(data)\n",
    "data = np.around(data, 2)\n",
    "comparisonDataframe = pd.DataFrame(data.reshape(3,3),\n",
    "            index=models,\n",
    "            columns=['precisionClass1', 'recallClass1', 'f1-scoreClass1'])"
   ]
  },
  {
   "cell_type": "code",
   "execution_count": 25,
   "metadata": {},
   "outputs": [
    {
     "data": {
      "text/html": [
       "<div>\n",
       "<style scoped>\n",
       "    .dataframe tbody tr th:only-of-type {\n",
       "        vertical-align: middle;\n",
       "    }\n",
       "\n",
       "    .dataframe tbody tr th {\n",
       "        vertical-align: top;\n",
       "    }\n",
       "\n",
       "    .dataframe thead th {\n",
       "        text-align: right;\n",
       "    }\n",
       "</style>\n",
       "<table border=\"1\" class=\"dataframe\">\n",
       "  <thead>\n",
       "    <tr style=\"text-align: right;\">\n",
       "      <th></th>\n",
       "      <th>precisionClass1</th>\n",
       "      <th>recallClass1</th>\n",
       "      <th>f1-scoreClass1</th>\n",
       "    </tr>\n",
       "  </thead>\n",
       "  <tbody>\n",
       "    <tr>\n",
       "      <th>ID3</th>\n",
       "      <td>0.92</td>\n",
       "      <td>0.87</td>\n",
       "      <td>0.89</td>\n",
       "    </tr>\n",
       "    <tr>\n",
       "      <th>C4.5</th>\n",
       "      <td>0.94</td>\n",
       "      <td>0.79</td>\n",
       "      <td>0.86</td>\n",
       "    </tr>\n",
       "    <tr>\n",
       "      <th>Gini</th>\n",
       "      <td>0.92</td>\n",
       "      <td>0.85</td>\n",
       "      <td>0.88</td>\n",
       "    </tr>\n",
       "  </tbody>\n",
       "</table>\n",
       "</div>"
      ],
      "text/plain": [
       "      precisionClass1  recallClass1  f1-scoreClass1\n",
       "ID3              0.92          0.87            0.89\n",
       "C4.5             0.94          0.79            0.86\n",
       "Gini             0.92          0.85            0.88"
      ]
     },
     "execution_count": 25,
     "metadata": {},
     "output_type": "execute_result"
    }
   ],
   "source": [
    "comparisonDataframe"
   ]
  },
  {
   "cell_type": "code",
   "execution_count": 26,
   "metadata": {
    "scrolled": false
   },
   "outputs": [
    {
     "data": {
      "image/png": "[encoded data removed]",
      "text/plain": [
       "<Figure size 1080x576 with 1 Axes>"
      ]
     },
     "metadata": {
      "needs_background": "light"
     },
     "output_type": "display_data"
    }
   ],
   "source": [
    "ax = comparisonDataframe.plot(kind='bar', figsize=(15,8));\n",
    "for p in ax.patches:\n",
    "    ax.annotate(str(p.get_height()), (p.get_x() * 1.005, p.get_height() * 1.005))"
   ]
  },
  {
   "cell_type": "markdown",
   "metadata": {},
   "source": [
    "## Conclusión"
   ]
  },
  {
   "cell_type": "markdown",
   "metadata": {},
   "source": [
    "ID3 nos arroja unos valores de precision iguales a los de Gini y únicamente un poco por debajo de C4.5. Además, nos otorga los mejores valores para recall. Siendo además muy equilibrado obtiene como es de esperar, el mejor valor para la métrica f1-score tanto en la clase 0 como en la clase 1 (a la que le damos la mayor importáncia). Es por esto que si tuviérmaos que usar alguno de nuestros modelos entrenados para clasificar muestras de este dataset, <b>nos inclinaríamos por usar ID3 como criterio de partición en nuestros árboles</b>."
   ]
  }
 ],
 "metadata": {
  "kernelspec": {
   "display_name": "prac2cri",
   "language": "python",
   "name": "prac2cri"
  },
  "language_info": {
   "codemirror_mode": {
    "name": "ipython",
    "version": 3
   },
   "file_extension": ".py",
   "mimetype": "text/x-python",
   "name": "python",
   "nbconvert_exporter": "python",
   "pygments_lexer": "ipython3",
   "version": "3.9.0"
  }
 },
 "nbformat": 4,
 "nbformat_minor": 4
}
